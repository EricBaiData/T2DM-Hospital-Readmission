{
 "cells": [
  {
   "cell_type": "markdown",
   "metadata": {},
   "source": [
    "## Setup BigQuery Connection"
   ]
  },
  {
   "cell_type": "code",
   "execution_count": 1,
   "metadata": {},
   "outputs": [],
   "source": [
    "import os\n",
    "import pandas as pd\n",
    "from google.cloud import bigquery\n",
    "\n",
    "os.environ[\"GOOGLE_APPLICATION_CREDENTIALS\"] = \"/Users/hakukazuho/.dbt/ericbai_datapractice_mimic_iv.json\"\n",
    "client = bigquery.Client()"
   ]
  },
  {
   "cell_type": "markdown",
   "metadata": {},
   "source": [
    "## Specify Dataset to Download & Load"
   ]
  },
  {
   "cell_type": "code",
   "execution_count": 8,
   "metadata": {},
   "outputs": [
    {
     "name": "stderr",
     "output_type": "stream",
     "text": [
      "/Library/Frameworks/Python.framework/Versions/3.11/lib/python3.11/site-packages/google/cloud/bigquery/table.py:1727: UserWarning: BigQuery Storage module not found, fetch data with the REST endpoint instead.\n",
      "  warnings.warn(\n"
     ]
    }
   ],
   "source": [
    "# Define your query\n",
    "query = \"\"\"\n",
    "    SELECT * FROM `mimic-iv-440804.eric_dbt.data_1111`\n",
    "\"\"\"\n",
    "\n",
    "# Run the query\n",
    "query_job = client.query(query)\n",
    "\n",
    "# Fetch the results as a DataFrame\n",
    "results = query_job.to_dataframe()\n",
    "results.to_csv('/Users/hakukazuho/t2dm_readmission/ml_models/data/data_1111.csv')"
   ]
  },
  {
   "cell_type": "code",
   "execution_count": 9,
   "metadata": {},
   "outputs": [
    {
     "data": {
      "text/html": [
       "<div>\n",
       "<style scoped>\n",
       "    .dataframe tbody tr th:only-of-type {\n",
       "        vertical-align: middle;\n",
       "    }\n",
       "\n",
       "    .dataframe tbody tr th {\n",
       "        vertical-align: top;\n",
       "    }\n",
       "\n",
       "    .dataframe thead th {\n",
       "        text-align: right;\n",
       "    }\n",
       "</style>\n",
       "<table border=\"1\" class=\"dataframe\">\n",
       "  <thead>\n",
       "    <tr style=\"text-align: right;\">\n",
       "      <th></th>\n",
       "      <th>hadm_id</th>\n",
       "      <th>subject_id</th>\n",
       "      <th>race</th>\n",
       "      <th>insurance</th>\n",
       "      <th>admission_type</th>\n",
       "      <th>los_hours</th>\n",
       "      <th>admission_location</th>\n",
       "      <th>discharge_location</th>\n",
       "      <th>gender</th>\n",
       "      <th>age</th>\n",
       "      <th>...</th>\n",
       "      <th>examide</th>\n",
       "      <th>citoglipton</th>\n",
       "      <th>insulin</th>\n",
       "      <th>diabetic_med</th>\n",
       "      <th>diagnosis_1</th>\n",
       "      <th>diagnosis_2</th>\n",
       "      <th>diagnosis_3</th>\n",
       "      <th>diagnosis_4</th>\n",
       "      <th>diagnosis_5</th>\n",
       "      <th>readmit_30d</th>\n",
       "    </tr>\n",
       "  </thead>\n",
       "  <tbody>\n",
       "    <tr>\n",
       "      <th>0</th>\n",
       "      <td>20960069</td>\n",
       "      <td>19595665</td>\n",
       "      <td>ASIAN</td>\n",
       "      <td>Medicare</td>\n",
       "      <td>SURGICAL SAME DAY ADMISSION</td>\n",
       "      <td>103</td>\n",
       "      <td>PHYSICIAN REFERRAL</td>\n",
       "      <td>HOME</td>\n",
       "      <td>M</td>\n",
       "      <td>66</td>\n",
       "      <td>...</td>\n",
       "      <td>False</td>\n",
       "      <td>False</td>\n",
       "      <td>True</td>\n",
       "      <td>True</td>\n",
       "      <td>185</td>\n",
       "      <td>25000</td>\n",
       "      <td>NaN</td>\n",
       "      <td>NaN</td>\n",
       "      <td>NaN</td>\n",
       "      <td>False</td>\n",
       "    </tr>\n",
       "    <tr>\n",
       "      <th>1</th>\n",
       "      <td>27878718</td>\n",
       "      <td>17618874</td>\n",
       "      <td>WHITE - RUSSIAN</td>\n",
       "      <td>Private</td>\n",
       "      <td>EW EMER.</td>\n",
       "      <td>46</td>\n",
       "      <td>EMERGENCY ROOM</td>\n",
       "      <td>SKILLED NURSING FACILITY</td>\n",
       "      <td>M</td>\n",
       "      <td>50</td>\n",
       "      <td>...</td>\n",
       "      <td>False</td>\n",
       "      <td>False</td>\n",
       "      <td>True</td>\n",
       "      <td>True</td>\n",
       "      <td>566</td>\n",
       "      <td>25000</td>\n",
       "      <td>NaN</td>\n",
       "      <td>NaN</td>\n",
       "      <td>NaN</td>\n",
       "      <td>False</td>\n",
       "    </tr>\n",
       "    <tr>\n",
       "      <th>2</th>\n",
       "      <td>24686455</td>\n",
       "      <td>13762375</td>\n",
       "      <td>WHITE</td>\n",
       "      <td>Private</td>\n",
       "      <td>URGENT</td>\n",
       "      <td>120</td>\n",
       "      <td>TRANSFER FROM HOSPITAL</td>\n",
       "      <td>HOME</td>\n",
       "      <td>M</td>\n",
       "      <td>62</td>\n",
       "      <td>...</td>\n",
       "      <td>False</td>\n",
       "      <td>False</td>\n",
       "      <td>True</td>\n",
       "      <td>True</td>\n",
       "      <td>1510</td>\n",
       "      <td>25000</td>\n",
       "      <td>NaN</td>\n",
       "      <td>NaN</td>\n",
       "      <td>NaN</td>\n",
       "      <td>False</td>\n",
       "    </tr>\n",
       "    <tr>\n",
       "      <th>3</th>\n",
       "      <td>21508487</td>\n",
       "      <td>10578743</td>\n",
       "      <td>WHITE</td>\n",
       "      <td>Private</td>\n",
       "      <td>SURGICAL SAME DAY ADMISSION</td>\n",
       "      <td>24</td>\n",
       "      <td>PHYSICIAN REFERRAL</td>\n",
       "      <td>HOME</td>\n",
       "      <td>M</td>\n",
       "      <td>71</td>\n",
       "      <td>...</td>\n",
       "      <td>False</td>\n",
       "      <td>False</td>\n",
       "      <td>True</td>\n",
       "      <td>True</td>\n",
       "      <td>2102</td>\n",
       "      <td>25000</td>\n",
       "      <td>NaN</td>\n",
       "      <td>NaN</td>\n",
       "      <td>NaN</td>\n",
       "      <td>True</td>\n",
       "    </tr>\n",
       "    <tr>\n",
       "      <th>4</th>\n",
       "      <td>20850035</td>\n",
       "      <td>13133673</td>\n",
       "      <td>WHITE</td>\n",
       "      <td>Private</td>\n",
       "      <td>SURGICAL SAME DAY ADMISSION</td>\n",
       "      <td>79</td>\n",
       "      <td>PHYSICIAN REFERRAL</td>\n",
       "      <td>HOME</td>\n",
       "      <td>M</td>\n",
       "      <td>55</td>\n",
       "      <td>...</td>\n",
       "      <td>False</td>\n",
       "      <td>False</td>\n",
       "      <td>True</td>\n",
       "      <td>True</td>\n",
       "      <td>2396</td>\n",
       "      <td>25000</td>\n",
       "      <td>NaN</td>\n",
       "      <td>NaN</td>\n",
       "      <td>NaN</td>\n",
       "      <td>False</td>\n",
       "    </tr>\n",
       "  </tbody>\n",
       "</table>\n",
       "<p>5 rows × 41 columns</p>\n",
       "</div>"
      ],
      "text/plain": [
       "    hadm_id  subject_id             race insurance  \\\n",
       "0  20960069    19595665            ASIAN  Medicare   \n",
       "1  27878718    17618874  WHITE - RUSSIAN   Private   \n",
       "2  24686455    13762375            WHITE   Private   \n",
       "3  21508487    10578743            WHITE   Private   \n",
       "4  20850035    13133673            WHITE   Private   \n",
       "\n",
       "                admission_type  los_hours      admission_location  \\\n",
       "0  SURGICAL SAME DAY ADMISSION        103      PHYSICIAN REFERRAL   \n",
       "1                     EW EMER.         46          EMERGENCY ROOM   \n",
       "2                       URGENT        120  TRANSFER FROM HOSPITAL   \n",
       "3  SURGICAL SAME DAY ADMISSION         24      PHYSICIAN REFERRAL   \n",
       "4  SURGICAL SAME DAY ADMISSION         79      PHYSICIAN REFERRAL   \n",
       "\n",
       "         discharge_location gender  age  ...  examide  citoglipton  insulin  \\\n",
       "0                      HOME      M   66  ...    False        False     True   \n",
       "1  SKILLED NURSING FACILITY      M   50  ...    False        False     True   \n",
       "2                      HOME      M   62  ...    False        False     True   \n",
       "3                      HOME      M   71  ...    False        False     True   \n",
       "4                      HOME      M   55  ...    False        False     True   \n",
       "\n",
       "   diabetic_med  diagnosis_1  diagnosis_2  diagnosis_3  diagnosis_4  \\\n",
       "0          True          185        25000          NaN          NaN   \n",
       "1          True          566        25000          NaN          NaN   \n",
       "2          True         1510        25000          NaN          NaN   \n",
       "3          True         2102        25000          NaN          NaN   \n",
       "4          True         2396        25000          NaN          NaN   \n",
       "\n",
       "   diagnosis_5  readmit_30d  \n",
       "0          NaN        False  \n",
       "1          NaN        False  \n",
       "2          NaN        False  \n",
       "3          NaN         True  \n",
       "4          NaN        False  \n",
       "\n",
       "[5 rows x 41 columns]"
      ]
     },
     "execution_count": 9,
     "metadata": {},
     "output_type": "execute_result"
    }
   ],
   "source": [
    "df = pd.read_csv('/Users/hakukazuho/t2dm_readmission/ml_models/data/data_1111.csv')\n",
    "df.drop(columns='Unnamed: 0', inplace=True)\n",
    "df.head()"
   ]
  },
  {
   "cell_type": "markdown",
   "metadata": {},
   "source": [
    "## Data Cleaning"
   ]
  },
  {
   "cell_type": "markdown",
   "metadata": {},
   "source": [
    "### Missing Data"
   ]
  },
  {
   "cell_type": "code",
   "execution_count": 10,
   "metadata": {},
   "outputs": [
    {
     "data": {
      "text/html": [
       "<div>\n",
       "<style scoped>\n",
       "    .dataframe tbody tr th:only-of-type {\n",
       "        vertical-align: middle;\n",
       "    }\n",
       "\n",
       "    .dataframe tbody tr th {\n",
       "        vertical-align: top;\n",
       "    }\n",
       "\n",
       "    .dataframe thead th {\n",
       "        text-align: right;\n",
       "    }\n",
       "</style>\n",
       "<table border=\"1\" class=\"dataframe\">\n",
       "  <thead>\n",
       "    <tr style=\"text-align: right;\">\n",
       "      <th></th>\n",
       "      <th>Missing Count</th>\n",
       "      <th>Percentage (%)</th>\n",
       "    </tr>\n",
       "  </thead>\n",
       "  <tbody>\n",
       "    <tr>\n",
       "      <th>max_a1c</th>\n",
       "      <td>9012</td>\n",
       "      <td>79.604275</td>\n",
       "    </tr>\n",
       "    <tr>\n",
       "      <th>diagnosis_5</th>\n",
       "      <td>433</td>\n",
       "      <td>3.824750</td>\n",
       "    </tr>\n",
       "    <tr>\n",
       "      <th>max_glucose</th>\n",
       "      <td>382</td>\n",
       "      <td>3.374260</td>\n",
       "    </tr>\n",
       "    <tr>\n",
       "      <th>diagnosis_4</th>\n",
       "      <td>160</td>\n",
       "      <td>1.413303</td>\n",
       "    </tr>\n",
       "    <tr>\n",
       "      <th>insurance</th>\n",
       "      <td>56</td>\n",
       "      <td>0.494656</td>\n",
       "    </tr>\n",
       "    <tr>\n",
       "      <th>diagnosis_3</th>\n",
       "      <td>28</td>\n",
       "      <td>0.247328</td>\n",
       "    </tr>\n",
       "  </tbody>\n",
       "</table>\n",
       "</div>"
      ],
      "text/plain": [
       "             Missing Count  Percentage (%)\n",
       "max_a1c               9012       79.604275\n",
       "diagnosis_5            433        3.824750\n",
       "max_glucose            382        3.374260\n",
       "diagnosis_4            160        1.413303\n",
       "insurance               56        0.494656\n",
       "diagnosis_3             28        0.247328"
      ]
     },
     "execution_count": 10,
     "metadata": {},
     "output_type": "execute_result"
    }
   ],
   "source": [
    "# Columns with Missing Data\n",
    "\n",
    "# Replace df with your DataFrame\n",
    "missing_values = pd.DataFrame({\n",
    "    'Missing Count': df.isnull().sum(),\n",
    "    'Percentage (%)': (df.isnull().sum() / len(df)) * 100\n",
    "})\n",
    "\n",
    "# Filter columns with missing values and sort in descending order of percentage\n",
    "missing_values = missing_values[missing_values['Missing Count'] > 0]\n",
    "missing_values = missing_values.sort_values(by='Percentage (%)', ascending=False)\n",
    "\n",
    "missing_values"
   ]
  },
  {
   "cell_type": "code",
   "execution_count": 16,
   "metadata": {},
   "outputs": [],
   "source": [
    "# Hotdeck Imputation with Approximate Bayesian Bootstrap"
   ]
  },
  {
   "cell_type": "markdown",
   "metadata": {},
   "source": [
    "### Data Inconsistency"
   ]
  },
  {
   "cell_type": "markdown",
   "metadata": {},
   "source": [
    "### Data Reduction"
   ]
  },
  {
   "cell_type": "markdown",
   "metadata": {},
   "source": [
    "## Feature Selection"
   ]
  },
  {
   "cell_type": "code",
   "execution_count": null,
   "metadata": {},
   "outputs": [],
   "source": []
  },
  {
   "cell_type": "markdown",
   "metadata": {},
   "source": [
    "## Class Balancing"
   ]
  },
  {
   "cell_type": "code",
   "execution_count": null,
   "metadata": {},
   "outputs": [],
   "source": []
  }
 ],
 "metadata": {
  "kernelspec": {
   "display_name": "Python 3",
   "language": "python",
   "name": "python3"
  },
  "language_info": {
   "codemirror_mode": {
    "name": "ipython",
    "version": 3
   },
   "file_extension": ".py",
   "mimetype": "text/x-python",
   "name": "python",
   "nbconvert_exporter": "python",
   "pygments_lexer": "ipython3",
   "version": "3.11.4"
  }
 },
 "nbformat": 4,
 "nbformat_minor": 2
}
