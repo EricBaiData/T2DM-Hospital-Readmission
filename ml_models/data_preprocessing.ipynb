{
 "cells": [
  {
   "cell_type": "markdown",
   "metadata": {},
   "source": [
    "## Setup BigQuery Connection"
   ]
  },
  {
   "cell_type": "code",
   "execution_count": 12,
   "metadata": {},
   "outputs": [],
   "source": [
    "import os\n",
    "import pandas as pd\n",
    "from google.cloud import bigquery\n",
    "\n",
    "os.environ[\"GOOGLE_APPLICATION_CREDENTIALS\"] = \"/Users/hakukazuho/.dbt/ericbai_datapractice_mimic_iv.json\"\n",
    "client = bigquery.Client()"
   ]
  },
  {
   "cell_type": "markdown",
   "metadata": {},
   "source": [
    "## Specify Dataset to Download & Load"
   ]
  },
  {
   "cell_type": "code",
   "execution_count": 13,
   "metadata": {},
   "outputs": [
    {
     "name": "stderr",
     "output_type": "stream",
     "text": [
      "/Library/Frameworks/Python.framework/Versions/3.11/lib/python3.11/site-packages/google/cloud/bigquery/table.py:1727: UserWarning: BigQuery Storage module not found, fetch data with the REST endpoint instead.\n",
      "  warnings.warn(\n"
     ]
    }
   ],
   "source": [
    "# Define your query\n",
    "query = \"\"\"\n",
    "    SELECT * FROM `mimic-iv-440804.eric_dbt.data_1108`\n",
    "\"\"\"\n",
    "\n",
    "# Run the query\n",
    "query_job = client.query(query)\n",
    "\n",
    "# Fetch the results as a DataFrame\n",
    "results = query_job.to_dataframe()\n",
    "results.to_csv('/Users/hakukazuho/t2dm_readmission/ml_models/data/data_1108.csv')"
   ]
  },
  {
   "cell_type": "code",
   "execution_count": 14,
   "metadata": {},
   "outputs": [
    {
     "data": {
      "text/html": [
       "<div>\n",
       "<style scoped>\n",
       "    .dataframe tbody tr th:only-of-type {\n",
       "        vertical-align: middle;\n",
       "    }\n",
       "\n",
       "    .dataframe tbody tr th {\n",
       "        vertical-align: top;\n",
       "    }\n",
       "\n",
       "    .dataframe thead th {\n",
       "        text-align: right;\n",
       "    }\n",
       "</style>\n",
       "<table border=\"1\" class=\"dataframe\">\n",
       "  <thead>\n",
       "    <tr style=\"text-align: right;\">\n",
       "      <th></th>\n",
       "      <th>hadm_id</th>\n",
       "      <th>race</th>\n",
       "      <th>insurance</th>\n",
       "      <th>admission_type</th>\n",
       "      <th>los_hours</th>\n",
       "      <th>discharge_location</th>\n",
       "      <th>gender</th>\n",
       "      <th>anchor_age</th>\n",
       "      <th>diagnoses_count</th>\n",
       "      <th>labtest_count</th>\n",
       "      <th>...</th>\n",
       "      <th>procedure_count</th>\n",
       "      <th>max_a1c</th>\n",
       "      <th>max_glucose</th>\n",
       "      <th>metformin</th>\n",
       "      <th>diagnosis_1</th>\n",
       "      <th>diagnosis_2</th>\n",
       "      <th>diagnosis_3</th>\n",
       "      <th>diagnosis_4</th>\n",
       "      <th>diagnosis_5</th>\n",
       "      <th>readmit_30d</th>\n",
       "    </tr>\n",
       "  </thead>\n",
       "  <tbody>\n",
       "    <tr>\n",
       "      <th>0</th>\n",
       "      <td>20960069</td>\n",
       "      <td>ASIAN</td>\n",
       "      <td>Medicare</td>\n",
       "      <td>SURGICAL SAME DAY ADMISSION</td>\n",
       "      <td>103</td>\n",
       "      <td>HOME</td>\n",
       "      <td>M</td>\n",
       "      <td>66</td>\n",
       "      <td>2</td>\n",
       "      <td>18</td>\n",
       "      <td>...</td>\n",
       "      <td>2</td>\n",
       "      <td>NaN</td>\n",
       "      <td>224.0</td>\n",
       "      <td>True</td>\n",
       "      <td>185</td>\n",
       "      <td>25000</td>\n",
       "      <td>NaN</td>\n",
       "      <td>NaN</td>\n",
       "      <td>NaN</td>\n",
       "      <td>False</td>\n",
       "    </tr>\n",
       "    <tr>\n",
       "      <th>1</th>\n",
       "      <td>27878718</td>\n",
       "      <td>WHITE - RUSSIAN</td>\n",
       "      <td>Private</td>\n",
       "      <td>EW EMER.</td>\n",
       "      <td>46</td>\n",
       "      <td>SKILLED NURSING FACILITY</td>\n",
       "      <td>M</td>\n",
       "      <td>47</td>\n",
       "      <td>2</td>\n",
       "      <td>29</td>\n",
       "      <td>...</td>\n",
       "      <td>1</td>\n",
       "      <td>NaN</td>\n",
       "      <td>167.0</td>\n",
       "      <td>False</td>\n",
       "      <td>566</td>\n",
       "      <td>25000</td>\n",
       "      <td>NaN</td>\n",
       "      <td>NaN</td>\n",
       "      <td>NaN</td>\n",
       "      <td>False</td>\n",
       "    </tr>\n",
       "    <tr>\n",
       "      <th>2</th>\n",
       "      <td>24686455</td>\n",
       "      <td>WHITE</td>\n",
       "      <td>Private</td>\n",
       "      <td>URGENT</td>\n",
       "      <td>120</td>\n",
       "      <td>HOME</td>\n",
       "      <td>M</td>\n",
       "      <td>62</td>\n",
       "      <td>2</td>\n",
       "      <td>104</td>\n",
       "      <td>...</td>\n",
       "      <td>1</td>\n",
       "      <td>NaN</td>\n",
       "      <td>101.0</td>\n",
       "      <td>False</td>\n",
       "      <td>1510</td>\n",
       "      <td>25000</td>\n",
       "      <td>NaN</td>\n",
       "      <td>NaN</td>\n",
       "      <td>NaN</td>\n",
       "      <td>False</td>\n",
       "    </tr>\n",
       "    <tr>\n",
       "      <th>3</th>\n",
       "      <td>21508487</td>\n",
       "      <td>WHITE</td>\n",
       "      <td>Private</td>\n",
       "      <td>SURGICAL SAME DAY ADMISSION</td>\n",
       "      <td>24</td>\n",
       "      <td>HOME</td>\n",
       "      <td>M</td>\n",
       "      <td>71</td>\n",
       "      <td>2</td>\n",
       "      <td>78</td>\n",
       "      <td>...</td>\n",
       "      <td>2</td>\n",
       "      <td>NaN</td>\n",
       "      <td>159.0</td>\n",
       "      <td>False</td>\n",
       "      <td>2102</td>\n",
       "      <td>25000</td>\n",
       "      <td>NaN</td>\n",
       "      <td>NaN</td>\n",
       "      <td>NaN</td>\n",
       "      <td>True</td>\n",
       "    </tr>\n",
       "    <tr>\n",
       "      <th>4</th>\n",
       "      <td>20850035</td>\n",
       "      <td>WHITE</td>\n",
       "      <td>Private</td>\n",
       "      <td>SURGICAL SAME DAY ADMISSION</td>\n",
       "      <td>79</td>\n",
       "      <td>HOME</td>\n",
       "      <td>M</td>\n",
       "      <td>55</td>\n",
       "      <td>2</td>\n",
       "      <td>60</td>\n",
       "      <td>...</td>\n",
       "      <td>2</td>\n",
       "      <td>NaN</td>\n",
       "      <td>331.0</td>\n",
       "      <td>False</td>\n",
       "      <td>2396</td>\n",
       "      <td>25000</td>\n",
       "      <td>NaN</td>\n",
       "      <td>NaN</td>\n",
       "      <td>NaN</td>\n",
       "      <td>False</td>\n",
       "    </tr>\n",
       "  </tbody>\n",
       "</table>\n",
       "<p>5 rows × 21 columns</p>\n",
       "</div>"
      ],
      "text/plain": [
       "    hadm_id             race insurance               admission_type  \\\n",
       "0  20960069            ASIAN  Medicare  SURGICAL SAME DAY ADMISSION   \n",
       "1  27878718  WHITE - RUSSIAN   Private                     EW EMER.   \n",
       "2  24686455            WHITE   Private                       URGENT   \n",
       "3  21508487            WHITE   Private  SURGICAL SAME DAY ADMISSION   \n",
       "4  20850035            WHITE   Private  SURGICAL SAME DAY ADMISSION   \n",
       "\n",
       "   los_hours        discharge_location gender  anchor_age  diagnoses_count  \\\n",
       "0        103                      HOME      M          66                2   \n",
       "1         46  SKILLED NURSING FACILITY      M          47                2   \n",
       "2        120                      HOME      M          62                2   \n",
       "3         24                      HOME      M          71                2   \n",
       "4         79                      HOME      M          55                2   \n",
       "\n",
       "   labtest_count  ...  procedure_count  max_a1c  max_glucose  metformin  \\\n",
       "0             18  ...                2      NaN        224.0       True   \n",
       "1             29  ...                1      NaN        167.0      False   \n",
       "2            104  ...                1      NaN        101.0      False   \n",
       "3             78  ...                2      NaN        159.0      False   \n",
       "4             60  ...                2      NaN        331.0      False   \n",
       "\n",
       "   diagnosis_1 diagnosis_2 diagnosis_3 diagnosis_4 diagnosis_5 readmit_30d  \n",
       "0          185       25000         NaN         NaN         NaN       False  \n",
       "1          566       25000         NaN         NaN         NaN       False  \n",
       "2         1510       25000         NaN         NaN         NaN       False  \n",
       "3         2102       25000         NaN         NaN         NaN        True  \n",
       "4         2396       25000         NaN         NaN         NaN       False  \n",
       "\n",
       "[5 rows x 21 columns]"
      ]
     },
     "execution_count": 14,
     "metadata": {},
     "output_type": "execute_result"
    }
   ],
   "source": [
    "df = pd.read_csv('/Users/hakukazuho/t2dm_readmission/ml_models/data/data_1108.csv')\n",
    "df.drop(columns='Unnamed: 0', inplace=True)\n",
    "df.head()"
   ]
  },
  {
   "cell_type": "markdown",
   "metadata": {},
   "source": [
    "## Data Cleaning"
   ]
  },
  {
   "cell_type": "markdown",
   "metadata": {},
   "source": [
    "### Missing Data"
   ]
  },
  {
   "cell_type": "code",
   "execution_count": 15,
   "metadata": {},
   "outputs": [
    {
     "data": {
      "text/html": [
       "<div>\n",
       "<style scoped>\n",
       "    .dataframe tbody tr th:only-of-type {\n",
       "        vertical-align: middle;\n",
       "    }\n",
       "\n",
       "    .dataframe tbody tr th {\n",
       "        vertical-align: top;\n",
       "    }\n",
       "\n",
       "    .dataframe thead th {\n",
       "        text-align: right;\n",
       "    }\n",
       "</style>\n",
       "<table border=\"1\" class=\"dataframe\">\n",
       "  <thead>\n",
       "    <tr style=\"text-align: right;\">\n",
       "      <th></th>\n",
       "      <th>Missing Count</th>\n",
       "      <th>Percentage (%)</th>\n",
       "    </tr>\n",
       "  </thead>\n",
       "  <tbody>\n",
       "    <tr>\n",
       "      <th>max_a1c</th>\n",
       "      <td>17030</td>\n",
       "      <td>81.741384</td>\n",
       "    </tr>\n",
       "    <tr>\n",
       "      <th>max_glucose</th>\n",
       "      <td>689</td>\n",
       "      <td>3.307094</td>\n",
       "    </tr>\n",
       "    <tr>\n",
       "      <th>diagnosis_5</th>\n",
       "      <td>492</td>\n",
       "      <td>2.361524</td>\n",
       "    </tr>\n",
       "    <tr>\n",
       "      <th>diagnosis_4</th>\n",
       "      <td>151</td>\n",
       "      <td>0.724777</td>\n",
       "    </tr>\n",
       "    <tr>\n",
       "      <th>insurance</th>\n",
       "      <td>111</td>\n",
       "      <td>0.532783</td>\n",
       "    </tr>\n",
       "    <tr>\n",
       "      <th>diagnosis_3</th>\n",
       "      <td>26</td>\n",
       "      <td>0.124796</td>\n",
       "    </tr>\n",
       "  </tbody>\n",
       "</table>\n",
       "</div>"
      ],
      "text/plain": [
       "             Missing Count  Percentage (%)\n",
       "max_a1c              17030       81.741384\n",
       "max_glucose            689        3.307094\n",
       "diagnosis_5            492        2.361524\n",
       "diagnosis_4            151        0.724777\n",
       "insurance              111        0.532783\n",
       "diagnosis_3             26        0.124796"
      ]
     },
     "execution_count": 15,
     "metadata": {},
     "output_type": "execute_result"
    }
   ],
   "source": [
    "# Columns with Missing Data\n",
    "\n",
    "# Replace df with your DataFrame\n",
    "missing_values = pd.DataFrame({\n",
    "    'Missing Count': df.isnull().sum(),\n",
    "    'Percentage (%)': (df.isnull().sum() / len(df)) * 100\n",
    "})\n",
    "\n",
    "# Filter columns with missing values and sort in descending order of percentage\n",
    "missing_values = missing_values[missing_values['Missing Count'] > 0]\n",
    "missing_values = missing_values.sort_values(by='Percentage (%)', ascending=False)\n",
    "\n",
    "missing_values"
   ]
  },
  {
   "cell_type": "code",
   "execution_count": 16,
   "metadata": {},
   "outputs": [],
   "source": [
    "# Hotdeck Imputation with Approximate Bayesian Bootstrap"
   ]
  },
  {
   "cell_type": "markdown",
   "metadata": {},
   "source": [
    "### Data Inconsistency"
   ]
  },
  {
   "cell_type": "markdown",
   "metadata": {},
   "source": [
    "### Data Reduction"
   ]
  },
  {
   "cell_type": "markdown",
   "metadata": {},
   "source": [
    "## Feature Selection"
   ]
  },
  {
   "cell_type": "code",
   "execution_count": null,
   "metadata": {},
   "outputs": [],
   "source": []
  },
  {
   "cell_type": "markdown",
   "metadata": {},
   "source": [
    "## Class Balancing"
   ]
  },
  {
   "cell_type": "code",
   "execution_count": null,
   "metadata": {},
   "outputs": [],
   "source": []
  }
 ],
 "metadata": {
  "kernelspec": {
   "display_name": "Python 3",
   "language": "python",
   "name": "python3"
  },
  "language_info": {
   "codemirror_mode": {
    "name": "ipython",
    "version": 3
   },
   "file_extension": ".py",
   "mimetype": "text/x-python",
   "name": "python",
   "nbconvert_exporter": "python",
   "pygments_lexer": "ipython3",
   "version": "3.11.4"
  }
 },
 "nbformat": 4,
 "nbformat_minor": 2
}
